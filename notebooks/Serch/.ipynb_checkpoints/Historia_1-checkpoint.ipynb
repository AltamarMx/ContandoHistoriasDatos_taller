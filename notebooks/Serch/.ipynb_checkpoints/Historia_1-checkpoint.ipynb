{
 "cells": [
  {
   "cell_type": "code",
   "execution_count": 1,
   "id": "64fb176b",
   "metadata": {},
   "outputs": [],
   "source": [
    "import matplotlib.pyplot as plt\n",
    "import pandas as pd\n",
    "import numpy as np"
   ]
  },
  {
   "cell_type": "code",
   "execution_count": 3,
   "id": "8206109a",
   "metadata": {},
   "outputs": [
    {
     "data": {
      "text/html": [
       "<div>\n",
       "<style scoped>\n",
       "    .dataframe tbody tr th:only-of-type {\n",
       "        vertical-align: middle;\n",
       "    }\n",
       "\n",
       "    .dataframe tbody tr th {\n",
       "        vertical-align: top;\n",
       "    }\n",
       "\n",
       "    .dataframe thead th {\n",
       "        text-align: right;\n",
       "    }\n",
       "</style>\n",
       "<table border=\"1\" class=\"dataframe\">\n",
       "  <thead>\n",
       "    <tr style=\"text-align: right;\">\n",
       "      <th></th>\n",
       "      <th>Gasolina Regular</th>\n",
       "      <th>Gasolina Premium</th>\n",
       "      <th>Diésel</th>\n",
       "    </tr>\n",
       "    <tr>\n",
       "      <th>Fecha</th>\n",
       "      <th></th>\n",
       "      <th></th>\n",
       "      <th></th>\n",
       "    </tr>\n",
       "  </thead>\n",
       "  <tbody>\n",
       "    <tr>\n",
       "      <th>2017-01-01</th>\n",
       "      <td>15,99</td>\n",
       "      <td>17,79</td>\n",
       "      <td>17,05</td>\n",
       "    </tr>\n",
       "    <tr>\n",
       "      <th>2017-01-02</th>\n",
       "      <td>16,02</td>\n",
       "      <td>17,82</td>\n",
       "      <td>17,08</td>\n",
       "    </tr>\n",
       "    <tr>\n",
       "      <th>2017-01-03</th>\n",
       "      <td>16,02</td>\n",
       "      <td>17,83</td>\n",
       "      <td>17,08</td>\n",
       "    </tr>\n",
       "    <tr>\n",
       "      <th>2017-01-04</th>\n",
       "      <td>16,02</td>\n",
       "      <td>17,83</td>\n",
       "      <td>17,08</td>\n",
       "    </tr>\n",
       "    <tr>\n",
       "      <th>2017-01-05</th>\n",
       "      <td>16,02</td>\n",
       "      <td>17,83</td>\n",
       "      <td>17,08</td>\n",
       "    </tr>\n",
       "    <tr>\n",
       "      <th>...</th>\n",
       "      <td>...</td>\n",
       "      <td>...</td>\n",
       "      <td>...</td>\n",
       "    </tr>\n",
       "    <tr>\n",
       "      <th>2023-02-24</th>\n",
       "      <td>21,76</td>\n",
       "      <td>24,05</td>\n",
       "      <td>23,62</td>\n",
       "    </tr>\n",
       "    <tr>\n",
       "      <th>2023-02-25</th>\n",
       "      <td>21,75</td>\n",
       "      <td>24,07</td>\n",
       "      <td>23,63</td>\n",
       "    </tr>\n",
       "    <tr>\n",
       "      <th>2023-02-26</th>\n",
       "      <td>21,76</td>\n",
       "      <td>24,07</td>\n",
       "      <td>23,62</td>\n",
       "    </tr>\n",
       "    <tr>\n",
       "      <th>2023-02-27</th>\n",
       "      <td>21,78</td>\n",
       "      <td>24,08</td>\n",
       "      <td>23,63</td>\n",
       "    </tr>\n",
       "    <tr>\n",
       "      <th>2023-02-28</th>\n",
       "      <td>21,78</td>\n",
       "      <td>24,08</td>\n",
       "      <td>23,65</td>\n",
       "    </tr>\n",
       "  </tbody>\n",
       "</table>\n",
       "<p>2250 rows × 3 columns</p>\n",
       "</div>"
      ],
      "text/plain": [
       "           Gasolina Regular Gasolina Premium Diésel\n",
       "Fecha                                              \n",
       "2017-01-01            15,99            17,79  17,05\n",
       "2017-01-02            16,02            17,82  17,08\n",
       "2017-01-03            16,02            17,83  17,08\n",
       "2017-01-04            16,02            17,83  17,08\n",
       "2017-01-05            16,02            17,83  17,08\n",
       "...                     ...              ...    ...\n",
       "2023-02-24            21,76            24,05  23,62\n",
       "2023-02-25            21,75            24,07  23,63\n",
       "2023-02-26            21,76            24,07  23,62\n",
       "2023-02-27            21,78            24,08  23,63\n",
       "2023-02-28            21,78            24,08  23,65\n",
       "\n",
       "[2250 rows x 3 columns]"
      ]
     },
     "execution_count": 3,
     "metadata": {},
     "output_type": "execute_result"
    }
   ],
   "source": [
    "f  = \"../data/Precios_combustible.csv\"\n",
    "\n",
    "df = pd.read_csv(f,)\n",
    "df.set_index([\"Fecha\"])\n",
    "df.Fecha = pd.to_datetime(df.Fecha,format = \"%d/%m/%Y\")\n",
    "df.set_index([\"Fecha\"])"
   ]
  },
  {
   "cell_type": "code",
   "execution_count": 4,
   "id": "5811b247",
   "metadata": {},
   "outputs": [
    {
     "name": "stdout",
     "output_type": "stream",
     "text": [
      "<class 'pandas.core.frame.DataFrame'>\n",
      "RangeIndex: 2250 entries, 0 to 2249\n",
      "Data columns (total 4 columns):\n",
      " #   Column            Non-Null Count  Dtype         \n",
      "---  ------            --------------  -----         \n",
      " 0   Fecha             2250 non-null   datetime64[ns]\n",
      " 1   Gasolina Regular  2250 non-null   object        \n",
      " 2   Gasolina Premium  2250 non-null   object        \n",
      " 3   Diésel            2250 non-null   object        \n",
      "dtypes: datetime64[ns](1), object(3)\n",
      "memory usage: 70.4+ KB\n"
     ]
    }
   ],
   "source": [
    "df.info()"
   ]
  },
  {
   "cell_type": "code",
   "execution_count": null,
   "id": "4600c206",
   "metadata": {},
   "outputs": [],
   "source": [
    "fig, ax = plt.subplots()  # Create a figure containing a single axes.\n",
    "ax.plot(df.Fecha , df.Diésel) \n",
    "ax.plot(df.Fecha, df[\"Gasolina Premium\"])\n",
    "ax.plot(df.Fecha, df[\"Gasolina Regular\"])"
   ]
  }
 ],
 "metadata": {
  "kernelspec": {
   "display_name": "Python 3 (ipykernel)",
   "language": "python",
   "name": "python3"
  },
  "language_info": {
   "codemirror_mode": {
    "name": "ipython",
    "version": 3
   },
   "file_extension": ".py",
   "mimetype": "text/x-python",
   "name": "python",
   "nbconvert_exporter": "python",
   "pygments_lexer": "ipython3",
   "version": "3.10.5"
  }
 },
 "nbformat": 4,
 "nbformat_minor": 5
}
