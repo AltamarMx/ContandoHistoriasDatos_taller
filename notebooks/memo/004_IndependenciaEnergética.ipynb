{
 "cells": [
  {
   "cell_type": "code",
   "execution_count": 1,
   "metadata": {},
   "outputs": [],
   "source": [
    "import pandas as pd\n",
    "import matplotlib.pyplot as plt\n",
    "from dateutil.parser  import parse\n",
    "import datetime as dt\n",
    "import matplotlib.dates as mdates\n",
    "import matplotlib as mpl\n",
    "\n",
    "\n",
    "plt.style.use('../enerdata.mplstyle')\n",
    "\n",
    "\n",
    "# colores\n",
    "azulier     = \"#1A3D6F\"\n",
    "doradoier  = '#C65C25' "
   ]
  },
  {
   "cell_type": "code",
   "execution_count": null,
   "metadata": {},
   "outputs": [],
   "source": [
    "f = '../../data/independencia.csv'\n",
    "ind = pd.read_csv(f,index_col=0,parse_dates=True)\n",
    "ind['Año'] = ind.index.year.astype(str)\n"
   ]
  },
  {
   "cell_type": "code",
   "execution_count": null,
   "metadata": {},
   "outputs": [],
   "source": [
    "ind"
   ]
  },
  {
   "cell_type": "code",
   "execution_count": null,
   "metadata": {},
   "outputs": [],
   "source": [
    "\n",
    "fig, ax = plt.subplots()\n",
    "\n",
    "#Grafica datos\n",
    "ax.plot(ind[\"Producción\"])\n",
    "ax.plot(ind[\"Oferta Interna Bruta\"], '-',color=doradoier)\n",
    "\n",
    "#Fondo verde y rojo para separar a~nos\n",
    "ax.axvspan(parse(\"2014-01-01\"),parse(\"2020-01-31\"),alpha=0.1,color=\"grey\")\n",
    "\n",
    "#L'imites en X y Y\n",
    "ax.set_xlim(ind.index[0]-pd.Timedelta(100,\"d\"),ind.index[-1]+pd.Timedelta(100,\"d\"))\n",
    "ax.set_xlim(ind.index[0],ind.index[-1])\n",
    "\n",
    "ax.set_ylim(6000,10000)\n",
    "\n",
    "#Etiquetas y texto\n",
    "ax.set_ylabel(\"Energía [$PJ$]\")\n",
    "# ax.set_xlabel(\"Año\")\n",
    "\n",
    "\n",
    "x = [dt.datetime(2020, 1, 1),dt.datetime(2020, 1, 1)]\n",
    "y = [6650,7600]\n",
    "ax.annotate('Producción', (mdates.date2num(x[0]), y[0]), xytext=(15, 15), \n",
    "            textcoords='offset points',size=18)\n",
    "ax.annotate('Consumo', (mdates.date2num(x[1]), y[1]), xytext=(15, 15), \n",
    "            textcoords='offset points',size=18,c=doradoier)\n",
    "\n",
    "# Formato de gr'afica\n",
    "ax.xaxis.set_major_locator(mdates.YearLocator(base=1))\n",
    "ax.xaxis.set_major_formatter(mdates.DateFormatter('%Y'))\n",
    "ax.spines[['top','right']].set_visible(False)\n",
    "ax.yaxis.set_major_formatter(mpl.ticker.StrMethodFormatter('{x:,.0f}'))\n",
    "\n",
    "fig.savefig('Fig1.png',transparent=True)\n"
   ]
  },
  {
   "cell_type": "code",
   "execution_count": null,
   "metadata": {},
   "outputs": [],
   "source": []
  }
 ],
 "metadata": {
  "kernelspec": {
   "display_name": "Python 3",
   "language": "python",
   "name": "python3"
  },
  "language_info": {
   "codemirror_mode": {
    "name": "ipython",
    "version": 3
   },
   "file_extension": ".py",
   "mimetype": "text/x-python",
   "name": "python",
   "nbconvert_exporter": "python",
   "pygments_lexer": "ipython3",
   "version": "3.8.5"
  }
 },
 "nbformat": 4,
 "nbformat_minor": 4
}
