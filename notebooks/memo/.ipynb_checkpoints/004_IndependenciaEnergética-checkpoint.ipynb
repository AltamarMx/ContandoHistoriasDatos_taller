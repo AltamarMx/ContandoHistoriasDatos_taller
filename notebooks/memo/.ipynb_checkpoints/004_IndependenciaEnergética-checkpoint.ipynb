{
 "cells": [
  {
   "cell_type": "code",
   "execution_count": 5,
   "metadata": {},
   "outputs": [],
   "source": [
    "import pandas as pd\n",
    "import matplotlib.pyplot as plt\n",
    "from dateutil.parser  import parse\n",
    "import datetime as dt\n",
    "import matplotlib.dates as mdates\n",
    "import matplotlib as mpl\n",
    "\n",
    "\n",
    "# plt.style.use('../enerdata.mplstyle')\n",
    "\n",
    "\n",
    "# colores\n",
    "azulier     = \"#1A3D6F\"\n",
    "doradoier  = '#C65C25' "
   ]
  },
  {
   "cell_type": "code",
   "execution_count": 6,
   "metadata": {},
   "outputs": [],
   "source": [
    "f = '../../data/independencia.csv'\n",
    "ind = pd.read_csv(f,index_col=0,parse_dates=True)\n",
    "ind['Año'] = ind.index.year.astype(str)\n"
   ]
  },
  {
   "cell_type": "code",
   "execution_count": 7,
   "metadata": {},
   "outputs": [
    {
     "data": {
      "text/html": [
       "<div>\n",
       "<style scoped>\n",
       "    .dataframe tbody tr th:only-of-type {\n",
       "        vertical-align: middle;\n",
       "    }\n",
       "\n",
       "    .dataframe tbody tr th {\n",
       "        vertical-align: top;\n",
       "    }\n",
       "\n",
       "    .dataframe thead th {\n",
       "        text-align: right;\n",
       "    }\n",
       "</style>\n",
       "<table border=\"1\" class=\"dataframe\">\n",
       "  <thead>\n",
       "    <tr style=\"text-align: right;\">\n",
       "      <th></th>\n",
       "      <th>Factor</th>\n",
       "      <th>Producción</th>\n",
       "      <th>Consumo</th>\n",
       "      <th>Importación</th>\n",
       "      <th>Oferta Interna Bruta</th>\n",
       "      <th>Año</th>\n",
       "    </tr>\n",
       "    <tr>\n",
       "      <th>año</th>\n",
       "      <th></th>\n",
       "      <th></th>\n",
       "      <th></th>\n",
       "      <th></th>\n",
       "      <th></th>\n",
       "      <th></th>\n",
       "    </tr>\n",
       "  </thead>\n",
       "  <tbody>\n",
       "    <tr>\n",
       "      <th>2011-01-01</th>\n",
       "      <td>1.10</td>\n",
       "      <td>9190.76</td>\n",
       "      <td>4994.82</td>\n",
       "      <td>2269.13</td>\n",
       "      <td>8399.02</td>\n",
       "      <td>2011</td>\n",
       "    </tr>\n",
       "    <tr>\n",
       "      <th>2013-01-01</th>\n",
       "      <td>1.00</td>\n",
       "      <td>9020.21</td>\n",
       "      <td>4939.48</td>\n",
       "      <td>2452.93</td>\n",
       "      <td>9011.83</td>\n",
       "      <td>2013</td>\n",
       "    </tr>\n",
       "    <tr>\n",
       "      <th>2014-01-01</th>\n",
       "      <td>1.02</td>\n",
       "      <td>8826.15</td>\n",
       "      <td>4894.09</td>\n",
       "      <td>2560.99</td>\n",
       "      <td>8624.26</td>\n",
       "      <td>2014</td>\n",
       "    </tr>\n",
       "    <tr>\n",
       "      <th>2015-01-01</th>\n",
       "      <td>0.97</td>\n",
       "      <td>8261.03</td>\n",
       "      <td>5089.98</td>\n",
       "      <td>2904.28</td>\n",
       "      <td>8528.87</td>\n",
       "      <td>2015</td>\n",
       "    </tr>\n",
       "    <tr>\n",
       "      <th>2016-01-01</th>\n",
       "      <td>0.84</td>\n",
       "      <td>7714.23</td>\n",
       "      <td>5473.46</td>\n",
       "      <td>3994.25</td>\n",
       "      <td>9140.19</td>\n",
       "      <td>2016</td>\n",
       "    </tr>\n",
       "    <tr>\n",
       "      <th>2017-01-01</th>\n",
       "      <td>0.76</td>\n",
       "      <td>7027.22</td>\n",
       "      <td>5364.00</td>\n",
       "      <td>4417.61</td>\n",
       "      <td>9249.75</td>\n",
       "      <td>2017</td>\n",
       "    </tr>\n",
       "    <tr>\n",
       "      <th>2018-01-01</th>\n",
       "      <td>0.70</td>\n",
       "      <td>6484.84</td>\n",
       "      <td>5336.30</td>\n",
       "      <td>5032.19</td>\n",
       "      <td>9236.86</td>\n",
       "      <td>2018</td>\n",
       "    </tr>\n",
       "    <tr>\n",
       "      <th>2019-01-01</th>\n",
       "      <td>0.72</td>\n",
       "      <td>6332.81</td>\n",
       "      <td>4760.57</td>\n",
       "      <td>4803.34</td>\n",
       "      <td>8811.06</td>\n",
       "      <td>2019</td>\n",
       "    </tr>\n",
       "    <tr>\n",
       "      <th>2020-01-01</th>\n",
       "      <td>0.87</td>\n",
       "      <td>6784.70</td>\n",
       "      <td>4383.46</td>\n",
       "      <td>3568.41</td>\n",
       "      <td>7826.61</td>\n",
       "      <td>2020</td>\n",
       "    </tr>\n",
       "  </tbody>\n",
       "</table>\n",
       "</div>"
      ],
      "text/plain": [
       "            Factor  Producción  Consumo  Importación  Oferta Interna Bruta  \\\n",
       "año                                                                          \n",
       "2011-01-01    1.10     9190.76  4994.82      2269.13               8399.02   \n",
       "2013-01-01    1.00     9020.21  4939.48      2452.93               9011.83   \n",
       "2014-01-01    1.02     8826.15  4894.09      2560.99               8624.26   \n",
       "2015-01-01    0.97     8261.03  5089.98      2904.28               8528.87   \n",
       "2016-01-01    0.84     7714.23  5473.46      3994.25               9140.19   \n",
       "2017-01-01    0.76     7027.22  5364.00      4417.61               9249.75   \n",
       "2018-01-01    0.70     6484.84  5336.30      5032.19               9236.86   \n",
       "2019-01-01    0.72     6332.81  4760.57      4803.34               8811.06   \n",
       "2020-01-01    0.87     6784.70  4383.46      3568.41               7826.61   \n",
       "\n",
       "             Año  \n",
       "año               \n",
       "2011-01-01  2011  \n",
       "2013-01-01  2013  \n",
       "2014-01-01  2014  \n",
       "2015-01-01  2015  \n",
       "2016-01-01  2016  \n",
       "2017-01-01  2017  \n",
       "2018-01-01  2018  \n",
       "2019-01-01  2019  \n",
       "2020-01-01  2020  "
      ]
     },
     "execution_count": 7,
     "metadata": {},
     "output_type": "execute_result"
    }
   ],
   "source": [
    "ind"
   ]
  },
  {
   "cell_type": "code",
   "execution_count": 8,
   "metadata": {
    "scrolled": true
   },
   "outputs": [
    {
     "data": {
      "image/png": "[encoded data removed]",
      "text/plain": [
       "<Figure size 432x288 with 1 Axes>"
      ]
     },
     "metadata": {
      "needs_background": "light"
     },
     "output_type": "display_data"
    }
   ],
   "source": [
    "\n",
    "fig, ax = plt.subplots()\n",
    "\n",
    "#Grafica datos\n",
    "ax.plot(ind[\"Producción\"])\n",
    "ax.plot(ind[\"Oferta Interna Bruta\"], '-',color=doradoier)\n",
    "\n",
    "#Fondo verde y rojo para separar a~nos\n",
    "ax.axvspan(parse(\"2014-01-01\"),parse(\"2020-01-31\"),alpha=0.1,color=\"grey\")\n",
    "\n",
    "#L'imites en X y Y\n",
    "ax.set_xlim(ind.index[0]-pd.Timedelta(100,\"d\"),ind.index[-1]+pd.Timedelta(100,\"d\"))\n",
    "ax.set_xlim(ind.index[0],ind.index[-1])\n",
    "\n",
    "ax.set_ylim(6000,10000)\n",
    "\n",
    "#Etiquetas y texto\n",
    "ax.set_ylabel(\"Energía [$PJ$]\")\n",
    "# ax.set_xlabel(\"Año\")\n",
    "\n",
    "\n",
    "x = [dt.datetime(2020, 1, 1),dt.datetime(2020, 1, 1)]\n",
    "y = [6650,7600]\n",
    "ax.annotate('Producción', (mdates.date2num(x[0]), y[0]), xytext=(15, 15), \n",
    "            textcoords='offset points',size=18)\n",
    "ax.annotate('Consumo', (mdates.date2num(x[1]), y[1]), xytext=(15, 15), \n",
    "            textcoords='offset points',size=18,c=doradoier)\n",
    "\n",
    "# Formato de gr'afica\n",
    "ax.xaxis.set_major_locator(mdates.YearLocator(base=1))\n",
    "ax.xaxis.set_major_formatter(mdates.DateFormatter('%Y'))\n",
    "ax.spines[['top','right']].set_visible(False)\n",
    "ax.yaxis.set_major_formatter(mpl.ticker.StrMethodFormatter('{x:,.0f}'))\n",
    "\n",
    "fig.savefig('Fig1.png',transparent=True)\n"
   ]
  },
  {
   "cell_type": "code",
   "execution_count": 10,
   "metadata": {
    "scrolled": true
   },
   "outputs": [
    {
     "name": "stderr",
     "output_type": "stream",
     "text": [
      "C:\\Users\\gbv\\AppData\\Local\\Temp\\ipykernel_3024\\543158159.py:21: UserWarning: FixedFormatter should only be used together with FixedLocator\n",
      "  ax.set_xticklabels(range(2010,2021,1),rotation=90)\n"
     ]
    },
    {
     "data": {
      "image/png": "[encoded data removed]",
      "text/plain": [
       "<Figure size 432x288 with 1 Axes>"
      ]
     },
     "metadata": {
      "needs_background": "light"
     },
     "output_type": "display_data"
    }
   ],
   "source": [
    "fig, ax = plt.subplots(constrained_layout=True)\n",
    "\n",
    "#Grafica datos\n",
    "ax.axhline(y=1,c=\"k\",alpha=0.5)\n",
    "ax.plot(ind.Factor, '-',  mfc='white',color=azulier)\n",
    "\n",
    "\n",
    "#Fondo verde y rojo para separar a~nos\n",
    "ax.axvspan(parse(\"2010-12-01\"),parse(\"2013-12-31\"),alpha=0.1,color='green')\n",
    "ax.axvspan(parse(\"2013-12-31\"),parse(\"2020-01-31\"),alpha=0.1,color=\"r\")\n",
    "\n",
    "#L'imites en X y Y\n",
    "ax.set_xlim(ind.index[0]-pd.Timedelta(100,\"d\"),ind.index[-1]+pd.Timedelta(100,\"d\"))\n",
    "ax.set_ylim(0,1.2)\n",
    "\n",
    "#Etiquetas y texto\n",
    "ax.set_ylabel(\"Factor de Independencia [-]\",c=azulier)\n",
    "ax.set_xlabel(\"Año\",c=azulier)\n",
    "\n",
    "# Formato de gr'afica\n",
    "ax.set_xticklabels(range(2010,2021,1),rotation=90)\n",
    "ax.spines[['top','right']].set_visible(False)\n",
    "\n",
    "fig.savefig('Fig2.png',transparent=True)\n"
   ]
  },
  {
   "cell_type": "code",
   "execution_count": 12,
   "metadata": {},
   "outputs": [
    {
     "name": "stderr",
     "output_type": "stream",
     "text": [
      "C:\\Users\\gbv\\AppData\\Local\\Temp\\ipykernel_3024\\1834182996.py:20: UserWarning: FixedFormatter should only be used together with FixedLocator\n",
      "  ax.set_xticklabels(range(2010,2021,1),rotation=90)\n"
     ]
    },
    {
     "data": {
      "image/png": "[encoded data removed]",
      "text/plain": [
       "<Figure size 432x288 with 1 Axes>"
      ]
     },
     "metadata": {
      "needs_background": "light"
     },
     "output_type": "display_data"
    }
   ],
   "source": [
    "fig, ax = plt.subplots(constrained_layout=True)\n",
    "\n",
    "#Grafica datos\n",
    "ax.plot(ind.Importación, '-',color=azulier)\n",
    "\n",
    "#Fondo verde y rojo para separar a~nos\n",
    "ax.axvspan(parse(\"2010-12-01\"),parse(\"2013-12-31\"),alpha=0.1,color='green')\n",
    "ax.axvspan(parse(\"2013-12-31\"),parse(\"2020-01-31\"),alpha=0.1,color=\"r\")\n",
    "\n",
    "#L'imites en X y Y\n",
    "ax.set_xlim(ind.index[0]-pd.Timedelta(100,\"d\"),ind.index[-1]+pd.Timedelta(100,\"d\"))\n",
    "# ax.set_ylim(0,1.2)\n",
    "\n",
    "#Etiquetas y texto\n",
    "ax.set_ylabel(\"Energía Importada [$PJ$]\",c=azulier)\n",
    "ax.set_xlabel(\"Año\",c=azulier)\n",
    "\n",
    "\n",
    "# Formato de gr'afica\n",
    "ax.set_xticklabels(range(2010,2021,1),rotation=90)\n",
    "ax.spines[['top','right']].set_visible(False)\n",
    "ax.yaxis.set_major_formatter(mpl.ticker.StrMethodFormatter('{x:,.0f}'))\n",
    "\n",
    "\n",
    "\n",
    "fig.savefig('Fig3.png',transparent=True)\n"
   ]
  }
 ],
 "metadata": {
  "kernelspec": {
   "display_name": "Python 3 (ipykernel)",
   "language": "python",
   "name": "python3"
  },
  "language_info": {
   "codemirror_mode": {
    "name": "ipython",
    "version": 3
   },
   "file_extension": ".py",
   "mimetype": "text/x-python",
   "name": "python",
   "nbconvert_exporter": "python",
   "pygments_lexer": "ipython3",
   "version": "3.9.10"
  }
 },
 "nbformat": 4,
 "nbformat_minor": 4
}
