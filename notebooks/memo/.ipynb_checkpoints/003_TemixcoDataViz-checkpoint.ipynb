{
 "cells": [
  {
   "cell_type": "code",
   "execution_count": 1,
   "id": "33266d76",
   "metadata": {},
   "outputs": [],
   "source": [
    "import pandas as pd\n",
    "import matplotlib.pyplot as plt\n",
    "import matplotlib.dates as mdates\n",
    "\n",
    "plt.style.use('../enerdata.mplstyle')\n"
   ]
  },
  {
   "cell_type": "code",
   "execution_count": 2,
   "id": "911982f3",
   "metadata": {},
   "outputs": [],
   "source": [
    "azulier        = \"#1A3D6F\"\n",
    "doradoier     = '#C65C25'"
   ]
  },
  {
   "cell_type": "code",
   "execution_count": 3,
   "id": "19aa143e",
   "metadata": {
    "scrolled": true
   },
   "outputs": [
    {
     "data": {
      "text/html": [
       "<div>\n",
       "<style scoped>\n",
       "    .dataframe tbody tr th:only-of-type {\n",
       "        vertical-align: middle;\n",
       "    }\n",
       "\n",
       "    .dataframe tbody tr th {\n",
       "        vertical-align: top;\n",
       "    }\n",
       "\n",
       "    .dataframe thead th {\n",
       "        text-align: right;\n",
       "    }\n",
       "</style>\n",
       "<table border=\"1\" class=\"dataframe\">\n",
       "  <thead>\n",
       "    <tr style=\"text-align: right;\">\n",
       "      <th></th>\n",
       "      <th>Ib</th>\n",
       "      <th>Ig</th>\n",
       "      <th>To</th>\n",
       "      <th>RH</th>\n",
       "      <th>WS</th>\n",
       "      <th>WD</th>\n",
       "      <th>P</th>\n",
       "    </tr>\n",
       "    <tr>\n",
       "      <th>time</th>\n",
       "      <th></th>\n",
       "      <th></th>\n",
       "      <th></th>\n",
       "      <th></th>\n",
       "      <th></th>\n",
       "      <th></th>\n",
       "      <th></th>\n",
       "    </tr>\n",
       "  </thead>\n",
       "  <tbody>\n",
       "    <tr>\n",
       "      <th>2018-01-01 00:00:00</th>\n",
       "      <td>NaN</td>\n",
       "      <td>NaN</td>\n",
       "      <td>18.70</td>\n",
       "      <td>36.34</td>\n",
       "      <td>1.422</td>\n",
       "      <td>316.0</td>\n",
       "      <td>87864.11</td>\n",
       "    </tr>\n",
       "    <tr>\n",
       "      <th>2018-01-01 00:10:00</th>\n",
       "      <td>0.002</td>\n",
       "      <td>0.0</td>\n",
       "      <td>18.95</td>\n",
       "      <td>35.29</td>\n",
       "      <td>1.008</td>\n",
       "      <td>283.7</td>\n",
       "      <td>87876.37</td>\n",
       "    </tr>\n",
       "    <tr>\n",
       "      <th>2018-01-01 00:20:00</th>\n",
       "      <td>0.170</td>\n",
       "      <td>0.0</td>\n",
       "      <td>18.94</td>\n",
       "      <td>35.43</td>\n",
       "      <td>1.565</td>\n",
       "      <td>326.0</td>\n",
       "      <td>87888.64</td>\n",
       "    </tr>\n",
       "    <tr>\n",
       "      <th>2018-01-01 00:30:00</th>\n",
       "      <td>0.371</td>\n",
       "      <td>0.0</td>\n",
       "      <td>18.77</td>\n",
       "      <td>35.89</td>\n",
       "      <td>2.175</td>\n",
       "      <td>354.5</td>\n",
       "      <td>87887.21</td>\n",
       "    </tr>\n",
       "    <tr>\n",
       "      <th>2018-01-01 00:40:00</th>\n",
       "      <td>0.305</td>\n",
       "      <td>0.0</td>\n",
       "      <td>18.81</td>\n",
       "      <td>36.34</td>\n",
       "      <td>1.902</td>\n",
       "      <td>348.0</td>\n",
       "      <td>87886.91</td>\n",
       "    </tr>\n",
       "    <tr>\n",
       "      <th>...</th>\n",
       "      <td>...</td>\n",
       "      <td>...</td>\n",
       "      <td>...</td>\n",
       "      <td>...</td>\n",
       "      <td>...</td>\n",
       "      <td>...</td>\n",
       "      <td>...</td>\n",
       "    </tr>\n",
       "    <tr>\n",
       "      <th>2018-12-31 23:10:00</th>\n",
       "      <td>0.125</td>\n",
       "      <td>0.0</td>\n",
       "      <td>18.51</td>\n",
       "      <td>47.29</td>\n",
       "      <td>1.715</td>\n",
       "      <td>332.2</td>\n",
       "      <td>87484.32</td>\n",
       "    </tr>\n",
       "    <tr>\n",
       "      <th>2018-12-31 23:20:00</th>\n",
       "      <td>0.000</td>\n",
       "      <td>0.0</td>\n",
       "      <td>18.26</td>\n",
       "      <td>48.02</td>\n",
       "      <td>1.703</td>\n",
       "      <td>320.5</td>\n",
       "      <td>87470.70</td>\n",
       "    </tr>\n",
       "    <tr>\n",
       "      <th>2018-12-31 23:30:00</th>\n",
       "      <td>0.044</td>\n",
       "      <td>0.0</td>\n",
       "      <td>18.39</td>\n",
       "      <td>46.84</td>\n",
       "      <td>2.887</td>\n",
       "      <td>335.7</td>\n",
       "      <td>87455.03</td>\n",
       "    </tr>\n",
       "    <tr>\n",
       "      <th>2018-12-31 23:40:00</th>\n",
       "      <td>0.170</td>\n",
       "      <td>0.0</td>\n",
       "      <td>17.99</td>\n",
       "      <td>47.85</td>\n",
       "      <td>1.528</td>\n",
       "      <td>358.8</td>\n",
       "      <td>87470.02</td>\n",
       "    </tr>\n",
       "    <tr>\n",
       "      <th>2018-12-31 23:50:00</th>\n",
       "      <td>0.003</td>\n",
       "      <td>0.0</td>\n",
       "      <td>17.75</td>\n",
       "      <td>49.65</td>\n",
       "      <td>0.598</td>\n",
       "      <td>322.3</td>\n",
       "      <td>87467.29</td>\n",
       "    </tr>\n",
       "  </tbody>\n",
       "</table>\n",
       "<p>52560 rows × 7 columns</p>\n",
       "</div>"
      ],
      "text/plain": [
       "                        Ib   Ig     To     RH     WS     WD         P\n",
       "time                                                                 \n",
       "2018-01-01 00:00:00    NaN  NaN  18.70  36.34  1.422  316.0  87864.11\n",
       "2018-01-01 00:10:00  0.002  0.0  18.95  35.29  1.008  283.7  87876.37\n",
       "2018-01-01 00:20:00  0.170  0.0  18.94  35.43  1.565  326.0  87888.64\n",
       "2018-01-01 00:30:00  0.371  0.0  18.77  35.89  2.175  354.5  87887.21\n",
       "2018-01-01 00:40:00  0.305  0.0  18.81  36.34  1.902  348.0  87886.91\n",
       "...                    ...  ...    ...    ...    ...    ...       ...\n",
       "2018-12-31 23:10:00  0.125  0.0  18.51  47.29  1.715  332.2  87484.32\n",
       "2018-12-31 23:20:00  0.000  0.0  18.26  48.02  1.703  320.5  87470.70\n",
       "2018-12-31 23:30:00  0.044  0.0  18.39  46.84  2.887  335.7  87455.03\n",
       "2018-12-31 23:40:00  0.170  0.0  17.99  47.85  1.528  358.8  87470.02\n",
       "2018-12-31 23:50:00  0.003  0.0  17.75  49.65  0.598  322.3  87467.29\n",
       "\n",
       "[52560 rows x 7 columns]"
      ]
     },
     "execution_count": 3,
     "metadata": {},
     "output_type": "execute_result"
    }
   ],
   "source": [
    "f = '../../data/temixco.csv'\n",
    "tmx = pd.read_csv(f,index_col=0,parse_dates=True)\n",
    "tmx"
   ]
  },
  {
   "cell_type": "code",
   "execution_count": 4,
   "id": "b4855e1f",
   "metadata": {},
   "outputs": [
    {
     "data": {
      "text/html": [
       "<div>\n",
       "<style scoped>\n",
       "    .dataframe tbody tr th:only-of-type {\n",
       "        vertical-align: middle;\n",
       "    }\n",
       "\n",
       "    .dataframe tbody tr th {\n",
       "        vertical-align: top;\n",
       "    }\n",
       "\n",
       "    .dataframe thead th {\n",
       "        text-align: right;\n",
       "    }\n",
       "</style>\n",
       "<table border=\"1\" class=\"dataframe\">\n",
       "  <thead>\n",
       "    <tr style=\"text-align: right;\">\n",
       "      <th></th>\n",
       "      <th>Ig</th>\n",
       "      <th>To</th>\n",
       "    </tr>\n",
       "    <tr>\n",
       "      <th>time</th>\n",
       "      <th></th>\n",
       "      <th></th>\n",
       "    </tr>\n",
       "  </thead>\n",
       "  <tbody>\n",
       "    <tr>\n",
       "      <th>1900-01-01 00:00:00</th>\n",
       "      <td>0.026025</td>\n",
       "      <td>20.839616</td>\n",
       "    </tr>\n",
       "    <tr>\n",
       "      <th>1900-01-01 00:10:00</th>\n",
       "      <td>0.018645</td>\n",
       "      <td>20.763068</td>\n",
       "    </tr>\n",
       "    <tr>\n",
       "      <th>1900-01-01 00:20:00</th>\n",
       "      <td>0.017623</td>\n",
       "      <td>20.666082</td>\n",
       "    </tr>\n",
       "    <tr>\n",
       "      <th>1900-01-01 00:30:00</th>\n",
       "      <td>0.009722</td>\n",
       "      <td>20.600986</td>\n",
       "    </tr>\n",
       "    <tr>\n",
       "      <th>1900-01-01 00:40:00</th>\n",
       "      <td>0.009344</td>\n",
       "      <td>20.525014</td>\n",
       "    </tr>\n",
       "    <tr>\n",
       "      <th>...</th>\n",
       "      <td>...</td>\n",
       "      <td>...</td>\n",
       "    </tr>\n",
       "    <tr>\n",
       "      <th>1900-01-01 23:10:00</th>\n",
       "      <td>0.060608</td>\n",
       "      <td>21.360192</td>\n",
       "    </tr>\n",
       "    <tr>\n",
       "      <th>1900-01-01 23:20:00</th>\n",
       "      <td>0.031022</td>\n",
       "      <td>21.280055</td>\n",
       "    </tr>\n",
       "    <tr>\n",
       "      <th>1900-01-01 23:30:00</th>\n",
       "      <td>0.022805</td>\n",
       "      <td>21.190795</td>\n",
       "    </tr>\n",
       "    <tr>\n",
       "      <th>1900-01-01 23:40:00</th>\n",
       "      <td>0.072745</td>\n",
       "      <td>21.059863</td>\n",
       "    </tr>\n",
       "    <tr>\n",
       "      <th>1900-01-01 23:50:00</th>\n",
       "      <td>0.043148</td>\n",
       "      <td>20.968027</td>\n",
       "    </tr>\n",
       "  </tbody>\n",
       "</table>\n",
       "<p>144 rows × 2 columns</p>\n",
       "</div>"
      ],
      "text/plain": [
       "                           Ig         To\n",
       "time                                    \n",
       "1900-01-01 00:00:00  0.026025  20.839616\n",
       "1900-01-01 00:10:00  0.018645  20.763068\n",
       "1900-01-01 00:20:00  0.017623  20.666082\n",
       "1900-01-01 00:30:00  0.009722  20.600986\n",
       "1900-01-01 00:40:00  0.009344  20.525014\n",
       "...                       ...        ...\n",
       "1900-01-01 23:10:00  0.060608  21.360192\n",
       "1900-01-01 23:20:00  0.031022  21.280055\n",
       "1900-01-01 23:30:00  0.022805  21.190795\n",
       "1900-01-01 23:40:00  0.072745  21.059863\n",
       "1900-01-01 23:50:00  0.043148  20.968027\n",
       "\n",
       "[144 rows x 2 columns]"
      ]
     },
     "execution_count": 4,
     "metadata": {},
     "output_type": "execute_result"
    }
   ],
   "source": [
    "dia = tmx[['Ig','To']].groupby(by=[tmx.index.strftime(\"%H:%M\")]).mean()\n",
    "dia.index = pd.to_datetime(dia.index,format=\"%H:%M\")\n",
    "dia"
   ]
  },
  {
   "cell_type": "code",
   "execution_count": 5,
   "id": "c3c8a0f5",
   "metadata": {},
   "outputs": [
    {
     "data": {
      "text/plain": [
       "DatetimeIndex(['1900-01-01 00:00:00', '1900-01-01 00:10:00',\n",
       "               '1900-01-01 00:20:00', '1900-01-01 00:30:00',\n",
       "               '1900-01-01 00:40:00', '1900-01-01 00:50:00',\n",
       "               '1900-01-01 01:00:00', '1900-01-01 01:10:00',\n",
       "               '1900-01-01 01:20:00', '1900-01-01 01:30:00',\n",
       "               ...\n",
       "               '1900-01-01 22:20:00', '1900-01-01 22:30:00',\n",
       "               '1900-01-01 22:40:00', '1900-01-01 22:50:00',\n",
       "               '1900-01-01 23:00:00', '1900-01-01 23:10:00',\n",
       "               '1900-01-01 23:20:00', '1900-01-01 23:30:00',\n",
       "               '1900-01-01 23:40:00', '1900-01-01 23:50:00'],\n",
       "              dtype='datetime64[ns]', name='time', length=144, freq=None)"
      ]
     },
     "execution_count": 5,
     "metadata": {},
     "output_type": "execute_result"
    }
   ],
   "source": [
    "dia.index"
   ]
  },
  {
   "cell_type": "code",
   "execution_count": 6,
   "id": "83b5f1e1",
   "metadata": {
    "scrolled": false
   },
   "outputs": [
    {
     "data": {
      "text/plain": [
       "<AxesSubplot: xlabel='time'>"
      ]
     },
     "execution_count": 6,
     "metadata": {},
     "output_type": "execute_result"
    },
    {
     "data": {
      "image/png": "[encoded data removed]",
      "text/plain": [
       "<Figure size 432x288 with 1 Axes>"
      ]
     },
     "metadata": {
      "needs_background": "dark"
     },
     "output_type": "display_data"
    }
   ],
   "source": [
    "\n",
    "plt.style.use('../enerdata.mplstyle')\n",
    "\n",
    "dia.plot()"
   ]
  },
  {
   "cell_type": "code",
   "execution_count": 7,
   "id": "a100e15b",
   "metadata": {},
   "outputs": [],
   "source": [
    "# def formato_ax(axs):\n",
    "#     for ax in axs:\n",
    "# #         ax.legend()\n",
    "#         ax.spines[['right', 'top']].set_visible(False)\n",
    "# #         ax.grid()\n",
    "# #         ax.spines['bottom'].set_color('grey')\n",
    "# #         ax.spines['left'].set_color('grey')    \n",
    "#         ax.tick_params(axis='both', colors='grey')\n"
   ]
  },
  {
   "cell_type": "code",
   "execution_count": 11,
   "id": "4204ec50",
   "metadata": {
    "scrolled": false
   },
   "outputs": [
    {
     "data": {
      "image/png": "[encoded data removed]",
      "text/plain": [
       "<Figure size 864x576 with 2 Axes>"
      ]
     },
     "metadata": {
      "needs_background": "dark"
     },
     "output_type": "display_data"
    }
   ],
   "source": [
    "\n",
    "\n",
    "fig, ax = plt.subplots(2,sharex=True,figsize=(12,8))\n",
    "\n",
    "\n",
    "ax[0].plot(dia.To,c=azulier)\n",
    "ax[1].plot(dia.Ig)\n",
    "\n",
    "ax[0].set_ylim(15,30)\n",
    "ax[1].set_ylim(0,1000)\n",
    "\n",
    "\n",
    "ax[0].set_ylabel('Temperatura [$^oC$]'  , labelpad=14)\n",
    "ax[1].set_ylabel('Irradiancia [$W/m^2$]',)\n",
    "ax[1].set_xlabel('Hora')\n",
    "\n",
    "ax[1].xaxis.set_major_locator(mdates.HourLocator(interval=2))\n",
    "ax[1].xaxis.set_major_formatter(mdates.DateFormatter(\"%H:%M\"));\n",
    "\n",
    "# formato_ax(ax);"
   ]
  },
  {
   "cell_type": "code",
   "execution_count": null,
   "id": "e2faeebd",
   "metadata": {},
   "outputs": [],
   "source": []
  },
  {
   "cell_type": "code",
   "execution_count": null,
   "id": "110d7fcb",
   "metadata": {},
   "outputs": [],
   "source": []
  }
 ],
 "metadata": {
  "kernelspec": {
   "display_name": "Python 3 (ipykernel)",
   "language": "python",
   "name": "python3"
  },
  "language_info": {
   "codemirror_mode": {
    "name": "ipython",
    "version": 3
   },
   "file_extension": ".py",
   "mimetype": "text/x-python",
   "name": "python",
   "nbconvert_exporter": "python",
   "pygments_lexer": "ipython3",
   "version": "3.9.10"
  }
 },
 "nbformat": 4,
 "nbformat_minor": 5
}
