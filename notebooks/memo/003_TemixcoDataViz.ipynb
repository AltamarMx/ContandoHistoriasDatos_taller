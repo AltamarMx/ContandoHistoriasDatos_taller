{
 "cells": [
  {
   "cell_type": "code",
   "execution_count": 1,
   "id": "333487c7",
   "metadata": {},
   "outputs": [],
   "source": [
    "import pandas as pd\n",
    "import matplotlib.pyplot as plt\n",
    "import matplotlib.dates as mdates\n",
    "\n",
    "\n",
    "plt.style.use('../enerdata.mplstyle')\n"
   ]
  },
  {
   "cell_type": "code",
   "execution_count": 2,
   "id": "c77ec18f",
   "metadata": {},
   "outputs": [],
   "source": [
    "azulier        = \"#1A3D6F\"\n",
    "doradoier     = '#C65C25'"
   ]
  },
  {
   "cell_type": "code",
   "execution_count": 3,
   "id": "48a6749f",
   "metadata": {
    "scrolled": true
   },
   "outputs": [
    {
     "data": {
      "text/html": [
       "<div>\n",
       "<style scoped>\n",
       "    .dataframe tbody tr th:only-of-type {\n",
       "        vertical-align: middle;\n",
       "    }\n",
       "\n",
       "    .dataframe tbody tr th {\n",
       "        vertical-align: top;\n",
       "    }\n",
       "\n",
       "    .dataframe thead th {\n",
       "        text-align: right;\n",
       "    }\n",
       "</style>\n",
       "<table border=\"1\" class=\"dataframe\">\n",
       "  <thead>\n",
       "    <tr style=\"text-align: right;\">\n",
       "      <th></th>\n",
       "      <th>Ib</th>\n",
       "      <th>Ig</th>\n",
       "      <th>To</th>\n",
       "      <th>RH</th>\n",
       "      <th>WS</th>\n",
       "      <th>WD</th>\n",
       "      <th>P</th>\n",
       "    </tr>\n",
       "    <tr>\n",
       "      <th>time</th>\n",
       "      <th></th>\n",
       "      <th></th>\n",
       "      <th></th>\n",
       "      <th></th>\n",
       "      <th></th>\n",
       "      <th></th>\n",
       "      <th></th>\n",
       "    </tr>\n",
       "  </thead>\n",
       "  <tbody>\n",
       "    <tr>\n",
       "      <th>2018-01-01 00:00:00</th>\n",
       "      <td>NaN</td>\n",
       "      <td>NaN</td>\n",
       "      <td>18.70</td>\n",
       "      <td>36.34</td>\n",
       "      <td>1.422</td>\n",
       "      <td>316.0</td>\n",
       "      <td>87864.11</td>\n",
       "    </tr>\n",
       "    <tr>\n",
       "      <th>2018-01-01 00:10:00</th>\n",
       "      <td>0.002</td>\n",
       "      <td>0.0</td>\n",
       "      <td>18.95</td>\n",
       "      <td>35.29</td>\n",
       "      <td>1.008</td>\n",
       "      <td>283.7</td>\n",
       "      <td>87876.37</td>\n",
       "    </tr>\n",
       "    <tr>\n",
       "      <th>2018-01-01 00:20:00</th>\n",
       "      <td>0.170</td>\n",
       "      <td>0.0</td>\n",
       "      <td>18.94</td>\n",
       "      <td>35.43</td>\n",
       "      <td>1.565</td>\n",
       "      <td>326.0</td>\n",
       "      <td>87888.64</td>\n",
       "    </tr>\n",
       "    <tr>\n",
       "      <th>2018-01-01 00:30:00</th>\n",
       "      <td>0.371</td>\n",
       "      <td>0.0</td>\n",
       "      <td>18.77</td>\n",
       "      <td>35.89</td>\n",
       "      <td>2.175</td>\n",
       "      <td>354.5</td>\n",
       "      <td>87887.21</td>\n",
       "    </tr>\n",
       "    <tr>\n",
       "      <th>2018-01-01 00:40:00</th>\n",
       "      <td>0.305</td>\n",
       "      <td>0.0</td>\n",
       "      <td>18.81</td>\n",
       "      <td>36.34</td>\n",
       "      <td>1.902</td>\n",
       "      <td>348.0</td>\n",
       "      <td>87886.91</td>\n",
       "    </tr>\n",
       "    <tr>\n",
       "      <th>...</th>\n",
       "      <td>...</td>\n",
       "      <td>...</td>\n",
       "      <td>...</td>\n",
       "      <td>...</td>\n",
       "      <td>...</td>\n",
       "      <td>...</td>\n",
       "      <td>...</td>\n",
       "    </tr>\n",
       "    <tr>\n",
       "      <th>2018-12-31 23:10:00</th>\n",
       "      <td>0.125</td>\n",
       "      <td>0.0</td>\n",
       "      <td>18.51</td>\n",
       "      <td>47.29</td>\n",
       "      <td>1.715</td>\n",
       "      <td>332.2</td>\n",
       "      <td>87484.32</td>\n",
       "    </tr>\n",
       "    <tr>\n",
       "      <th>2018-12-31 23:20:00</th>\n",
       "      <td>0.000</td>\n",
       "      <td>0.0</td>\n",
       "      <td>18.26</td>\n",
       "      <td>48.02</td>\n",
       "      <td>1.703</td>\n",
       "      <td>320.5</td>\n",
       "      <td>87470.70</td>\n",
       "    </tr>\n",
       "    <tr>\n",
       "      <th>2018-12-31 23:30:00</th>\n",
       "      <td>0.044</td>\n",
       "      <td>0.0</td>\n",
       "      <td>18.39</td>\n",
       "      <td>46.84</td>\n",
       "      <td>2.887</td>\n",
       "      <td>335.7</td>\n",
       "      <td>87455.03</td>\n",
       "    </tr>\n",
       "    <tr>\n",
       "      <th>2018-12-31 23:40:00</th>\n",
       "      <td>0.170</td>\n",
       "      <td>0.0</td>\n",
       "      <td>17.99</td>\n",
       "      <td>47.85</td>\n",
       "      <td>1.528</td>\n",
       "      <td>358.8</td>\n",
       "      <td>87470.02</td>\n",
       "    </tr>\n",
       "    <tr>\n",
       "      <th>2018-12-31 23:50:00</th>\n",
       "      <td>0.003</td>\n",
       "      <td>0.0</td>\n",
       "      <td>17.75</td>\n",
       "      <td>49.65</td>\n",
       "      <td>0.598</td>\n",
       "      <td>322.3</td>\n",
       "      <td>87467.29</td>\n",
       "    </tr>\n",
       "  </tbody>\n",
       "</table>\n",
       "<p>52560 rows × 7 columns</p>\n",
       "</div>"
      ],
      "text/plain": [
       "                        Ib   Ig     To     RH     WS     WD         P\n",
       "time                                                                 \n",
       "2018-01-01 00:00:00    NaN  NaN  18.70  36.34  1.422  316.0  87864.11\n",
       "2018-01-01 00:10:00  0.002  0.0  18.95  35.29  1.008  283.7  87876.37\n",
       "2018-01-01 00:20:00  0.170  0.0  18.94  35.43  1.565  326.0  87888.64\n",
       "2018-01-01 00:30:00  0.371  0.0  18.77  35.89  2.175  354.5  87887.21\n",
       "2018-01-01 00:40:00  0.305  0.0  18.81  36.34  1.902  348.0  87886.91\n",
       "...                    ...  ...    ...    ...    ...    ...       ...\n",
       "2018-12-31 23:10:00  0.125  0.0  18.51  47.29  1.715  332.2  87484.32\n",
       "2018-12-31 23:20:00  0.000  0.0  18.26  48.02  1.703  320.5  87470.70\n",
       "2018-12-31 23:30:00  0.044  0.0  18.39  46.84  2.887  335.7  87455.03\n",
       "2018-12-31 23:40:00  0.170  0.0  17.99  47.85  1.528  358.8  87470.02\n",
       "2018-12-31 23:50:00  0.003  0.0  17.75  49.65  0.598  322.3  87467.29\n",
       "\n",
       "[52560 rows x 7 columns]"
      ]
     },
     "execution_count": 3,
     "metadata": {},
     "output_type": "execute_result"
    }
   ],
   "source": [
    "f = '../../data/temixco.csv'\n",
    "tmx = pd.read_csv(f,index_col=0,parse_dates=True)\n",
    "tmx"
   ]
  },
  {
   "cell_type": "code",
   "execution_count": 4,
   "id": "ade49040",
   "metadata": {},
   "outputs": [],
   "source": [
    "dia = tmx[['Ig','To']].groupby(by=[tmx.index.strftime(\"%H:%M\")]).mean()\n",
    "dia.index = pd.to_datetime(dia.index,format=\"%H:%M\")\n"
   ]
  },
  {
   "cell_type": "code",
   "execution_count": 5,
   "id": "6b3f3a28",
   "metadata": {
    "scrolled": false
   },
   "outputs": [
    {
     "data": {
      "text/plain": [
       "<AxesSubplot:xlabel='time'>"
      ]
     },
     "execution_count": 5,
     "metadata": {},
     "output_type": "execute_result"
    },
    {
     "data": {
      "image/png": "[encoded data removed]",
      "text/plain": [
       "<Figure size 1000x400 with 1 Axes>"
      ]
     },
     "metadata": {},
     "output_type": "display_data"
    }
   ],
   "source": [
    "dia.plot()"
   ]
  },
  {
   "cell_type": "code",
   "execution_count": 6,
   "id": "cef9ad2f",
   "metadata": {},
   "outputs": [],
   "source": [
    "# def formato_ax(axs):\n",
    "#     for ax in axs:\n",
    "# #         ax.legend()\n",
    "#         ax.spines[['right', 'top']].set_visible(False)\n",
    "# #         ax.grid()\n",
    "# #         ax.spines['bottom'].set_color('grey')\n",
    "# #         ax.spines['left'].set_color('grey')    \n",
    "#         ax.tick_params(axis='both', colors='grey')\n"
   ]
  },
  {
   "cell_type": "code",
   "execution_count": 1,
   "id": "2e48e4e1",
   "metadata": {
    "scrolled": false
   },
   "outputs": [
    {
     "ename": "NameError",
     "evalue": "name 'plt' is not defined",
     "output_type": "error",
     "traceback": [
      "\u001b[1;31m---------------------------------------------------------------------------\u001b[0m",
      "\u001b[1;31mNameError\u001b[0m                                 Traceback (most recent call last)",
      "\u001b[1;32m~\\AppData\\Local\\Temp\\ipykernel_24908\\858636923.py\u001b[0m in \u001b[0;36m<cell line: 1>\u001b[1;34m()\u001b[0m\n\u001b[1;32m----> 1\u001b[1;33m \u001b[0mfig\u001b[0m\u001b[1;33m,\u001b[0m \u001b[0max\u001b[0m \u001b[1;33m=\u001b[0m \u001b[0mplt\u001b[0m\u001b[1;33m.\u001b[0m\u001b[0msubplots\u001b[0m\u001b[1;33m(\u001b[0m\u001b[1;36m2\u001b[0m\u001b[1;33m,\u001b[0m\u001b[0mfigsize\u001b[0m\u001b[1;33m=\u001b[0m\u001b[1;33m(\u001b[0m\u001b[1;36m10\u001b[0m\u001b[1;33m,\u001b[0m\u001b[1;36m4\u001b[0m\u001b[1;33m)\u001b[0m\u001b[1;33m,\u001b[0m\u001b[0msharex\u001b[0m\u001b[1;33m=\u001b[0m\u001b[1;32mTrue\u001b[0m\u001b[1;33m)\u001b[0m\u001b[1;33m\u001b[0m\u001b[1;33m\u001b[0m\u001b[0m\n\u001b[0m\u001b[0;32m      2\u001b[0m \u001b[1;33m\u001b[0m\u001b[0m\n\u001b[0;32m      3\u001b[0m \u001b[1;31m# hours = mdates.HourLocator(interval = 1)\u001b[0m\u001b[1;33m\u001b[0m\u001b[1;33m\u001b[0m\u001b[0m\n\u001b[0;32m      4\u001b[0m \u001b[1;33m\u001b[0m\u001b[0m\n\u001b[0;32m      5\u001b[0m \u001b[0max\u001b[0m\u001b[1;33m[\u001b[0m\u001b[1;36m0\u001b[0m\u001b[1;33m]\u001b[0m\u001b[1;33m.\u001b[0m\u001b[0mplot\u001b[0m\u001b[1;33m(\u001b[0m\u001b[0mdia\u001b[0m\u001b[1;33m.\u001b[0m\u001b[0mTo\u001b[0m\u001b[1;33m,\u001b[0m \u001b[0mlabel\u001b[0m\u001b[1;33m=\u001b[0m\u001b[1;34m'To'\u001b[0m\u001b[1;33m,\u001b[0m\u001b[0mc\u001b[0m\u001b[1;33m=\u001b[0m\u001b[0mazulier\u001b[0m\u001b[1;33m,\u001b[0m\u001b[0mlw\u001b[0m\u001b[1;33m=\u001b[0m\u001b[1;36m4\u001b[0m\u001b[1;33m)\u001b[0m\u001b[1;33m\u001b[0m\u001b[1;33m\u001b[0m\u001b[0m\n",
      "\u001b[1;31mNameError\u001b[0m: name 'plt' is not defined"
     ]
    }
   ],
   "source": [
    "plt.style.use('../enerdata.mplstyle')\n",
    "\n",
    "fig, ax = plt.subplots(2,sharex=True)\n",
    "\n",
    "\n",
    "ax[0].plot(dia.To, label='To',c=azulier)\n",
    "ax[1].plot(dia.Ig, label='Ig',c=doradoier)\n",
    "\n",
    "ax[0].set_ylim(15,30)\n",
    "ax[1].set_ylim(0,1000)\n",
    "\n",
    "\n",
    "ax[0].set_ylabel('Temperatura [$^oC$]'  , labelpad=14)\n",
    "ax[1].set_ylabel('Irradiancia [$W/m^2$]',)\n",
    "ax[1].set_xlabel('Hora')\n",
    "\n",
    "ax[1].xaxis.set_major_locator(mdates.HourLocator(interval=2))\n",
    "ax[1].xaxis.set_major_formatter(mdates.DateFormatter(\"%H:%M\"))\n",
    "\n",
    "# formato_ax(ax);"
   ]
  },
  {
   "cell_type": "code",
   "execution_count": null,
   "id": "87d30841",
   "metadata": {},
   "outputs": [],
   "source": []
  },
  {
   "cell_type": "code",
   "execution_count": null,
   "id": "2430fe7b",
   "metadata": {},
   "outputs": [],
   "source": []
  }
 ],
 "metadata": {
  "kernelspec": {
   "display_name": "Python 3 (ipykernel)",
   "language": "python",
   "name": "python3"
  },
  "language_info": {
   "codemirror_mode": {
    "name": "ipython",
    "version": 3
   },
   "file_extension": ".py",
   "mimetype": "text/x-python",
   "name": "python",
   "nbconvert_exporter": "python",
   "pygments_lexer": "ipython3",
   "version": "3.10.5"
  }
 },
 "nbformat": 4,
 "nbformat_minor": 5
}
